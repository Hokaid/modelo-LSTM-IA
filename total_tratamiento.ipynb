{
  "nbformat": 4,
  "nbformat_minor": 0,
  "metadata": {
    "colab": {
      "name": "total tratamiento.ipynb",
      "provenance": [],
      "collapsed_sections": []
    },
    "kernelspec": {
      "name": "python3",
      "display_name": "Python 3"
    },
    "accelerator": "GPU"
  },
  "cells": [
    {
      "cell_type": "code",
      "metadata": {
        "id": "tqf1qWo2zbv_",
        "colab_type": "code",
        "colab": {}
      },
      "source": [
        "import pandas as pd\n",
        "import numpy as np\n",
        "import time\n",
        "import datetime\n",
        "import json"
      ],
      "execution_count": 0,
      "outputs": []
    },
    {
      "cell_type": "code",
      "metadata": {
        "id": "nW58GvQZW-Di",
        "colab_type": "code",
        "outputId": "226c9a89-0d6a-4dca-a604-9b0c68ac1e15",
        "colab": {
          "base_uri": "https://localhost:8080/",
          "height": 123
        }
      },
      "source": [
        "from google.colab import drive\n",
        "drive.mount('/content/drive')"
      ],
      "execution_count": 0,
      "outputs": [
        {
          "output_type": "stream",
          "text": [
            "Go to this URL in a browser: https://accounts.google.com/o/oauth2/auth?client_id=947318989803-6bn6qk8qdgf4n4g3pfee6491hc0brc4i.apps.googleusercontent.com&redirect_uri=urn%3aietf%3awg%3aoauth%3a2.0%3aoob&response_type=code&scope=email%20https%3a%2f%2fwww.googleapis.com%2fauth%2fdocs.test%20https%3a%2f%2fwww.googleapis.com%2fauth%2fdrive%20https%3a%2f%2fwww.googleapis.com%2fauth%2fdrive.photos.readonly%20https%3a%2f%2fwww.googleapis.com%2fauth%2fpeopleapi.readonly\n",
            "\n",
            "Enter your authorization code:\n",
            "··········\n",
            "Mounted at /content/drive\n"
          ],
          "name": "stdout"
        }
      ]
    },
    {
      "cell_type": "code",
      "metadata": {
        "id": "uK1fNaUN0dFs",
        "colab_type": "code",
        "outputId": "d56da443-d5e7-47f4-9291-246dceb1297f",
        "colab": {
          "base_uri": "https://localhost:8080/",
          "height": 193
        }
      },
      "source": [
        "df = pd.read_csv('/content/drive/My Drive/Colab Notebooks/pronóstico de bolsas/data.csv', sep=',',header=0, encoding = \"ISO-8859-1\")\n",
        "df.head()"
      ],
      "execution_count": 0,
      "outputs": [
        {
          "output_type": "execute_result",
          "data": {
            "text/html": [
              "<div>\n",
              "<style scoped>\n",
              "    .dataframe tbody tr th:only-of-type {\n",
              "        vertical-align: middle;\n",
              "    }\n",
              "\n",
              "    .dataframe tbody tr th {\n",
              "        vertical-align: top;\n",
              "    }\n",
              "\n",
              "    .dataframe thead th {\n",
              "        text-align: right;\n",
              "    }\n",
              "</style>\n",
              "<table border=\"1\" class=\"dataframe\">\n",
              "  <thead>\n",
              "    <tr style=\"text-align: right;\">\n",
              "      <th></th>\n",
              "      <th>Fecha</th>\n",
              "      <th>Cliente</th>\n",
              "      <th>No Bolsas</th>\n",
              "    </tr>\n",
              "  </thead>\n",
              "  <tbody>\n",
              "    <tr>\n",
              "      <th>0</th>\n",
              "      <td>1/05/2019</td>\n",
              "      <td>CLINICA EL GOLF</td>\n",
              "      <td>1</td>\n",
              "    </tr>\n",
              "    <tr>\n",
              "      <th>1</th>\n",
              "      <td>1/05/2019</td>\n",
              "      <td>HOSP. DOS DE MAYO</td>\n",
              "      <td>1</td>\n",
              "    </tr>\n",
              "    <tr>\n",
              "      <th>2</th>\n",
              "      <td>1/05/2019</td>\n",
              "      <td>CLINICA MONTESUR</td>\n",
              "      <td>1</td>\n",
              "    </tr>\n",
              "    <tr>\n",
              "      <th>3</th>\n",
              "      <td>1/05/2019</td>\n",
              "      <td>VESALIO</td>\n",
              "      <td>1</td>\n",
              "    </tr>\n",
              "    <tr>\n",
              "      <th>4</th>\n",
              "      <td>1/05/2019</td>\n",
              "      <td>HOSP. BARTON</td>\n",
              "      <td>1</td>\n",
              "    </tr>\n",
              "  </tbody>\n",
              "</table>\n",
              "</div>"
            ],
            "text/plain": [
              "       Fecha            Cliente  No Bolsas\n",
              "0  1/05/2019    CLINICA EL GOLF          1\n",
              "1  1/05/2019  HOSP. DOS DE MAYO          1\n",
              "2  1/05/2019   CLINICA MONTESUR          1\n",
              "3  1/05/2019            VESALIO          1\n",
              "4  1/05/2019       HOSP. BARTON          1"
            ]
          },
          "metadata": {
            "tags": []
          },
          "execution_count": 4
        }
      ]
    },
    {
      "cell_type": "code",
      "metadata": {
        "id": "6jbmfIQNz4eg",
        "colab_type": "code",
        "colab": {}
      },
      "source": [
        "labels = [c for c in df.columns.array]\n",
        "data = df.values\n",
        "keys = {}"
      ],
      "execution_count": 0,
      "outputs": []
    },
    {
      "cell_type": "code",
      "metadata": {
        "id": "NzNXpxHF2yJN",
        "colab_type": "code",
        "outputId": "3b8f377a-f426-4421-bae1-10ad47e5f2a5",
        "colab": {
          "base_uri": "https://localhost:8080/",
          "height": 154
        }
      },
      "source": [
        "def string_to_date(date):\n",
        "  return datetime.datetime.strptime(date, \"%d/%m/%Y\")\n",
        "\n",
        "def date_to_timestamp(date):\n",
        "  return int(time.mktime(date.timetuple()))\n",
        "\n",
        "def timestamp_to_string(date):\n",
        "  return datetime.datetime.fromtimestamp(date).strftime(\"%d/%m/%Y\")\n",
        "\n",
        "def next_day(date):\n",
        "  return date + datetime.timedelta(days=1)\n",
        "\n",
        "def days_between(d1, d2):\n",
        "    return abs((d2 - d1).days)\n",
        "\n",
        "data[:,0] = [string_to_date(d) for d in data[:,0]]\n",
        "data"
      ],
      "execution_count": 0,
      "outputs": [
        {
          "output_type": "execute_result",
          "data": {
            "text/plain": [
              "array([[datetime.datetime(2019, 5, 1, 0, 0), 'CLINICA EL GOLF', 1],\n",
              "       [datetime.datetime(2019, 5, 1, 0, 0), 'HOSP. DOS DE MAYO', 1],\n",
              "       [datetime.datetime(2019, 5, 1, 0, 0), 'CLINICA MONTESUR', 1],\n",
              "       ...,\n",
              "       [datetime.datetime(2019, 12, 14, 0, 0), 'INCOR', 1],\n",
              "       [datetime.datetime(2019, 12, 14, 0, 0), 'CLINICA TEZZA', 1],\n",
              "       [datetime.datetime(2019, 12, 14, 0, 0), 'CLINICA TEZZA', 1]],\n",
              "      dtype=object)"
            ]
          },
          "metadata": {
            "tags": []
          },
          "execution_count": 6
        }
      ]
    },
    {
      "cell_type": "code",
      "metadata": {
        "id": "FlQz7okR3ETe",
        "colab_type": "code",
        "colab": {}
      },
      "source": [
        "hospitals = []\n",
        "keys[labels[1]] = []\n",
        "for hospital in data[:,1]:\n",
        "  if hospital not in hospitals:\n",
        "    hospitals.append(hospital)\n",
        "    keys[labels[1]].append(hospital)\n",
        "data[:,1] = [hospitals.index(hospital) for hospital in data[:,1]]"
      ],
      "execution_count": 0,
      "outputs": []
    },
    {
      "cell_type": "code",
      "metadata": {
        "id": "HfStG_0b_S2H",
        "colab_type": "code",
        "outputId": "dc05ad4c-0209-4ef8-d0d4-3a1d2c216650",
        "colab": {
          "base_uri": "https://localhost:8080/",
          "height": 137
        }
      },
      "source": [
        "data"
      ],
      "execution_count": 0,
      "outputs": [
        {
          "output_type": "execute_result",
          "data": {
            "text/plain": [
              "array([[datetime.datetime(2019, 5, 1, 0, 0), 0, 1],\n",
              "       [datetime.datetime(2019, 5, 1, 0, 0), 1, 1],\n",
              "       [datetime.datetime(2019, 5, 1, 0, 0), 2, 1],\n",
              "       ...,\n",
              "       [datetime.datetime(2019, 12, 14, 0, 0), 9, 1],\n",
              "       [datetime.datetime(2019, 12, 14, 0, 0), 16, 1],\n",
              "       [datetime.datetime(2019, 12, 14, 0, 0), 16, 1]], dtype=object)"
            ]
          },
          "metadata": {
            "tags": []
          },
          "execution_count": 8
        }
      ]
    },
    {
      "cell_type": "code",
      "metadata": {
        "colab_type": "code",
        "id": "bF-zQqKpuRmh",
        "colab": {}
      },
      "source": [
        "labels_proc = [\"timestamp\", \"nbolsas\"]\n",
        "\n",
        "days = set(data[:, 0])\n",
        "\n",
        "prev = []\n",
        "for d in data:\n",
        "    prev.append([d[0], d[2]])\n",
        "\n",
        "n_days = days_between(max(days), min(days))\n",
        "ev = next_day(min(days))\n",
        "\n",
        "init = 0\n",
        "while init < n_days:\n",
        "  if ev not in days:\n",
        "    prev.append([ev, 0])\n",
        "  ev = next_day(ev)\n",
        "  init += 1\n",
        "\n",
        "prev = np.array(prev)\n",
        "days = set(prev[:,0])\n",
        "\n",
        "post = []\n",
        "\n",
        "for d in days:\n",
        "  ev = prev[prev[:,0]==d]\n",
        "  row = [date_to_timestamp(d), ev[:,1].sum()]\n",
        "  post.append(row)\n",
        "\n",
        "post = np.array(post)\n",
        "post = post[post[:,0].argsort()]\n",
        "post = np.array([[timestamp_to_string(p[0]), p[1]] for p in post])\n",
        "  \n",
        "data_proc = [post]"
      ],
      "execution_count": 0,
      "outputs": []
    },
    {
      "cell_type": "code",
      "metadata": {
        "id": "awnlzBBHA4-6",
        "colab_type": "code",
        "colab": {}
      },
      "source": [
        "data_proc = np.array(data_proc[0])"
      ],
      "execution_count": 0,
      "outputs": []
    },
    {
      "cell_type": "code",
      "metadata": {
        "id": "3hUrJFMnDMGy",
        "colab_type": "code",
        "outputId": "f2700609-2cdf-4853-e5b3-bb5f562e96dd",
        "colab": {
          "base_uri": "https://localhost:8080/",
          "height": 188
        }
      },
      "source": [
        "data_proc[:10]"
      ],
      "execution_count": 0,
      "outputs": [
        {
          "output_type": "execute_result",
          "data": {
            "text/plain": [
              "array([['01/05/2019', '34'],\n",
              "       ['02/05/2019', '38'],\n",
              "       ['03/05/2019', '40'],\n",
              "       ['04/05/2019', '73'],\n",
              "       ['05/05/2019', '0'],\n",
              "       ['06/05/2019', '35'],\n",
              "       ['07/05/2019', '35'],\n",
              "       ['08/05/2019', '36'],\n",
              "       ['09/05/2019', '33'],\n",
              "       ['10/05/2019', '37']], dtype='<U10')"
            ]
          },
          "metadata": {
            "tags": []
          },
          "execution_count": 12
        }
      ]
    },
    {
      "cell_type": "code",
      "metadata": {
        "id": "X4QBYda5j-PA",
        "colab_type": "code",
        "colab": {}
      },
      "source": [
        "path = \"/content/drive/My Drive/Colab Notebooks/pronóstico de bolsas/data-proc-total.csv\"\n",
        "np.savetxt(path, data_proc, delimiter=\",\", fmt='%s')"
      ],
      "execution_count": 0,
      "outputs": []
    }
  ]
}